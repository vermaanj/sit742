{
 "cells": [
  {
   "cell_type": "markdown",
   "metadata": {
    "id": "3D514Ei_kSUS"
   },
   "source": [
    "# SIT742: Modern Data Science \n",
    "**(2021 Assessment Task 01 - Data Manipulation)**\n",
    "\n",
    "---\n",
    "- Please refer to the CloudDeakin for the detailed assessment requirements.\n",
    "- Please submit to Clouddeakin before the due date.\n",
    "- Students with difficulty in meeting the deadline because of illness, etc. must apply for an assignment extension (up to 3 days) no later than *12:00pm on 16/04/2021 (Friday)*.\n",
    "\n",
    "\n",
    "Prepared by **SIT742 Teaching Team**\n",
    "\n",
    "\n",
    "---\n",
    "\n",
    "<div class=\"alert alert-block alert-info\">\n",
    "Enter your information in the following cell. Please make sure you fill your Student ID and Name correctly.  \n",
    "</div>\n",
    "\n",
    "**Student Information:** Please fill your information below\n",
    "\n",
    "- Name:  \n",
    "- Student ID:  \n",
    "- Email:  \n",
    "- Lab Session and Tutor (for on campus students): \n",
    "\n",
    "---"
   ]
  },
  {
   "cell_type": "markdown",
   "metadata": {
    "id": "1X7L24t43CoU"
   },
   "source": [
    "# Part I - Web Log Data\n",
    "\n",
    "## Overview\n",
    "\n",
    "Hotel TULIP a five-star hotel located at Deakin University, and its CIO Dr Bear Guts has asked the Team-SIT742 team to analyse the weblogs files. As an employee for Hotel Tulip, working in the Information Technology Division, it is required to prepare a set of documentation for Team-SIT742 to allow them to understand the data being dealt with. Throughout this report, some source codes are to explore the weblog, which afterwards the information is presented to Dr Bear Guts in the format of a report.\n",
    "\n",
    "In this part, you are required to use give dataset to finish some required analysis, with the exploreation data analytics skills as well as visuilization skill.\n",
    "\n",
    "\n",
    "You will be required to complete the coding to answer the questions with a neat and clean format, and you must keep outputs for code. Your commenting and adherence to code standards will also be considered when marking. Further information on Python standards, please visit https://www.python.org/dev/peps/pep-0008/ \n",
    "\n",
    "\n",
    "**Note**: You are not necessary to stick to the partial code provided, and you can write your own code to implement the required tasks. But you should provide sufficient comments.\n"
   ]
  },
  {
   "cell_type": "markdown",
   "metadata": {
    "id": "r85LNibZkSUZ"
   },
   "source": [
    "\n",
    "\n",
    "## 1.  Data ETL"
   ]
  },
  {
   "cell_type": "markdown",
   "metadata": {
    "id": "HtL_9QR27_Iu"
   },
   "source": [
    "### 1.1 Data Loading"
   ]
  },
  {
   "cell_type": "code",
   "execution_count": null,
   "metadata": {
    "id": "19EhpLspkSUZ"
   },
   "outputs": [],
   "source": [
    "import matplotlib.pyplot as plt\n",
    "import numpy as np\n",
    "import pandas as pd\n",
    "import time\n",
    "import datetime\n",
    "from scipy import stats\n",
    "import matplotlib\n"
   ]
  },
  {
   "cell_type": "markdown",
   "metadata": {
    "id": "jY2Br4cBN956"
   },
   "source": [
    " <div class=\"alert alert-block alert-info\">\n",
    "\n",
    "**Code**: \n",
    "    You are required to load Hotel TULIP data into dataframe df_ht and check how many files are loaded.\n",
    "    <br>\n",
    "    *Keep the outputs for code in your notebook.\n",
    "</div>\n",
    "\n"
   ]
  },
  {
   "cell_type": "code",
   "execution_count": null,
   "metadata": {
    "id": "IIB_xH-hOqEj"
   },
   "outputs": [],
   "source": [
    "# Your code\n",
    "from zipfile import ZipFile\n",
    "\n",
    "df_ht =  # Your code ...."
   ]
  },
  {
   "cell_type": "markdown",
   "metadata": {
    "id": "Dyt9lwm_QKFV"
   },
   "source": [
    " <div class=\"alert alert-block alert-info\">\n",
    "\n",
    "**Code**: \n",
    "    Check the data statistics and general information by printing its top 5 rows.\n",
    "    <br>\n",
    "    *Keep the outputs for code in your notebook.\n",
    "</div>\n",
    "\n",
    "<div class=\"alert alert-block alert-warning\">\n",
    "    \n",
    "**Report**: \n",
    "    **Part I 1.1** Please include your result for this coding task into your SIT742-DataDictionary.xlsx, then add to your report - Part I with proper section title '1.1.1' and '1.1.2'.\n",
    "</div>\n",
    "    </div>\n"
   ]
  },
  {
   "cell_type": "code",
   "execution_count": null,
   "metadata": {
    "id": "1h7LqSGgQRUb"
   },
   "outputs": [],
   "source": [
    "# Your code"
   ]
  },
  {
   "cell_type": "markdown",
   "metadata": {
    "id": "jDUDzs7lkSUa"
   },
   "source": [
    "### 1.2 Data Cleaning"
   ]
  },
  {
   "cell_type": "markdown",
   "metadata": {
    "id": "En0WOURqp7dB"
   },
   "source": [
    "#### Remove all NAs from data"
   ]
  },
  {
   "cell_type": "markdown",
   "metadata": {
    "id": "Efxzawa7Xdv9"
   },
   "source": [
    "\n",
    "<div class=\"alert alert-block alert-warning\">\n",
    "\n",
    "**Code**: \n",
    "    1. Check which columns have NAs, <br>\n",
    "    2. For each of those columns, display the number of NA records, <br> \n",
    "    3. emove all records with any NAs.\n",
    "    <br>\n",
    "    *Keep the outputs for code in your notebook.\n",
    "</div> \n",
    "\n",
    "<div class=\"alert alert-block alert-warning\">\n",
    "    \n",
    "**Report**: \n",
    "    **Part I 1.2** Please include your result for this coding task into your report Part I, with proper section title '1.2'.\n",
    "</div>\n",
    "    </div>\n"
   ]
  },
  {
   "cell_type": "code",
   "execution_count": null,
   "metadata": {
    "id": "GX3BeD361pTw"
   },
   "outputs": [],
   "source": [
    "# Your code"
   ]
  },
  {
   "cell_type": "markdown",
   "metadata": {
    "id": "mq3sWOXtrZhF"
   },
   "source": [
    "## 2. Data Statistics Description"
   ]
  },
  {
   "cell_type": "markdown",
   "metadata": {
    "id": "BJuh1nsirmOy"
   },
   "source": [
    "### 2.1 Traffic Analysis"
   ]
  },
  {
   "cell_type": "markdown",
   "metadata": {
    "id": "vzey2OZygD8u"
   },
   "source": [
    "\n",
    "<div class=\"alert alert-block alert-warning\">\n",
    "\n",
    "**Code**: \n",
    "    Discover on the traffics by analysing hourly requests, then plot it into Bar Chart.\n",
    "    <br>\n",
    "    *Keep the outputs for code in your notebook.\n",
    "</div> \n",
    "\n",
    "<div class=\"alert alert-block alert-warning\">\n",
    "    \n",
    "**Report**: \n",
    "    **Part I 2.1.A** Please include your result for this coding task into your report Part I, with proper section title '2.1.A'.\n",
    "</div>\n",
    "    </div>\n"
   ]
  },
  {
   "cell_type": "markdown",
   "metadata": {
    "id": "EpEeaqZtxIZg"
   },
   "source": [
    "#### By day and plot \n",
    "\n"
   ]
  },
  {
   "cell_type": "code",
   "execution_count": null,
   "metadata": {
    "id": "DAH1IrWbfQQW"
   },
   "outputs": [],
   "source": [
    "# Create a bar chart of the number of server requests by hour of the day\n",
    "#\n",
    "plt.title(\"Requests per Hour\")\n",
    "\n",
    "# Your code"
   ]
  },
  {
   "cell_type": "markdown",
   "metadata": {
    "id": "aFEJDPvEy8ZR"
   },
   "source": [
    "\n",
    "<div class=\"alert alert-block alert-warning\">\n",
    "\n",
    "**Code**: \n",
    "    You are required to filter the hourly requests by removing any below 490,000 and above 400,000. (hourly_request_amount >= 400000 & hourly_request_amount <= 490000)    \n",
    "    <br>\n",
    "    *Keep the outputs for code in your notebook.\n",
    "</div> \n",
    "\n",
    "<div class=\"alert alert-block alert-warning\">\n",
    "    \n",
    "**Report**: \n",
    "    **Part I 2.1.B** Please include your result for this coding task into your report, with proper section title '2.1.B'.\n",
    "</div>\n",
    "    </div>\n"
   ]
  },
  {
   "cell_type": "code",
   "execution_count": null,
   "metadata": {
    "id": "TLArAkrH0rig"
   },
   "outputs": [],
   "source": [
    "#Your code"
   ]
  },
  {
   "cell_type": "markdown",
   "metadata": {
    "id": "xwKZ2IAr9IR_"
   },
   "source": [
    "### 2.2 Server Analysis"
   ]
  },
  {
   "cell_type": "markdown",
   "metadata": {
    "id": "n2sojLZStPBh"
   },
   "source": [
    "<div class=\"alert alert-block alert-warning\">\n",
    "\n",
    "**Code**: \n",
    "    Discover on the server status using 'sc-status' from DataFrame, then plot it into Pie Chart. <br>\n",
    "    *Keep the outputs for code in your notebook.\n",
    "</div> \n",
    "\n",
    "<div class=\"alert alert-block alert-warning\">\n",
    "    \n",
    "**Report**: \n",
    "    **Part I 2.2** Please include your results for this coding task into your report Part I section '2.2', <br>\n",
    "    1. How many types of status reported? <br>\n",
    "    2. Figure 'Server Status' in pie chart. <br>\n",
    "</div>"
   ]
  },
  {
   "cell_type": "markdown",
   "metadata": {
    "id": "jOy7bisdx6iB"
   },
   "source": [
    "#### Server Status"
   ]
  },
  {
   "cell_type": "code",
   "execution_count": null,
   "metadata": {
    "id": "9nVWlMSXrHQg"
   },
   "outputs": [],
   "source": [
    "plt.title(\"Server Status\")\n",
    "\n",
    "#Your code"
   ]
  },
  {
   "cell_type": "markdown",
   "metadata": {
    "id": "bxT49TgGpwrw"
   },
   "source": [
    "### 2.3 Geographic Analysis"
   ]
  },
  {
   "cell_type": "markdown",
   "metadata": {
    "id": "MpEve4Zgvtc9"
   },
   "source": [
    "Clinet's IP addresses can reflect geographic information. Since different IP are from different countries even citys, we can find out the demographics information from them. You may use **DbIpCity** from **ip2geotools** to find the geolocation information from given IPs.\n",
    "\n",
    "**Notes:**\n",
    "There are some attributes in ip2geotools can help: <br>\n",
    "*ip_address*: IP address <br>\n",
    "*city*: city where IP address is located <br>\n",
    "*region*: region where IP address is located <br>\n",
    "*country*: country where IP address is located (two letters country code) <br>"
   ]
  },
  {
   "cell_type": "markdown",
   "metadata": {
    "id": "AvUQUKGCqLhJ"
   },
   "source": [
    "#### 2.3.A Requests by Country\n",
    "<div class=\"alert alert-block alert-warning\">\n",
    "\n",
    "**Code**: \n",
    "    Build your code with the following requirements <br>\n",
    "    1. Select all requests at 01 Jan 2007 from 20:00:00 pm to 20:59:59. <br>\n",
    "    2. Discover on the demographics by analysing requests from country level. <br>\n",
    "    3. Plot countries of all requests in pie chart. <br>\n",
    "    4. List top 3 with the numbers of requests. <br>\n",
    "    *Keep the outputs for code in your notebook.\n",
    "</div> \n",
    "\n",
    "<div class=\"alert alert-block alert-warning\">\n",
    "    \n",
    "**Report**: \n",
    "    **Part I 2.3.A** Please include your results for this coding task into your report Part I section '2.3.A', <br>\n",
    "    1. How many requests raised in the period of time? <br>\n",
    "    2. How many countries are invlolved? <br>\n",
    "    3. Figure 'Request by Country' in pie chart. <br>\n",
    "    4. top 3 countries with request numbers. <br>\n",
    "</div>"
   ]
  },
  {
   "cell_type": "code",
   "execution_count": null,
   "metadata": {
    "id": "g1UvjRlOVjy0"
   },
   "outputs": [],
   "source": [
    "!pip install ip2geotools"
   ]
  },
  {
   "cell_type": "code",
   "execution_count": null,
   "metadata": {
    "id": "jSdycFyYzybd"
   },
   "outputs": [],
   "source": [
    "from ip2geotools.databases.noncommercial import DbIpCity\n",
    "\n",
    "#Your code"
   ]
  },
  {
   "cell_type": "code",
   "execution_count": null,
   "metadata": {
    "id": "xN21MLq7x6Cf"
   },
   "outputs": [],
   "source": [
    "# Create a pie chart of the country values\n",
    "\n",
    "plt.title(\"Request by Country\")"
   ]
  },
  {
   "cell_type": "markdown",
   "metadata": {
    "id": "Qhf-g91_umxF"
   },
   "source": [
    "#### 2.3.B Requests by City\n",
    "<div class=\"alert alert-block alert-warning\">\n",
    "\n",
    "**Code**: \n",
    "    Using the selected requests from 2.3.A and build your code with the following requirements <br>\n",
    "    1. Discover on the demographics by analysing requests from city level. <br>\n",
    "    2. Plot cities of all requests in pie chart. <br>\n",
    "    3. List top 3 with the numbers of requests. <br>\n",
    "    *Keep the outputs for code in your notebook.\n",
    "</div> \n",
    "\n",
    "<div class=\"alert alert-block alert-warning\">\n",
    "    \n",
    "**Report**: \n",
    "    **Part I 2.3.B** Please include your results for this coding task into your report Part I section '2.3.B', <br>\n",
    "    1. How many cites are invlolved? <br>\n",
    "    2. Figure 'Request by City' in pie chart. <br>\n",
    "    3. Top 3 cities with request numbers. <br>\n",
    "</div>"
   ]
  },
  {
   "cell_type": "code",
   "execution_count": null,
   "metadata": {
    "id": "g7p39EpEBqaj"
   },
   "outputs": [],
   "source": [
    "# Create a pie chart of the city values\n",
    "\n",
    "plt.title(\"Request by City\")"
   ]
  },
  {
   "cell_type": "markdown",
   "metadata": {
    "id": "UOLvHKdZtcto"
   },
   "source": [
    "# Part II - Web Crawling\n",
    "\n",
    "## Overview\n",
    "To better introduce all the professors including the emeritus professor, the professor and also associate professor in Deakin University School of IT, faculty will need to know all the citation information on all professors. Google Scholar is a web search engine that freely indexes the metadata of articles on many authors. Majority of the professors choose to use google scholar to track their publications and research works. Therefore,  the web crawling on google scholar will be able to have the citation information obtained across all the professors (who have the google scholar profile).\n"
   ]
  },
  {
   "cell_type": "markdown",
   "metadata": {
    "id": "gqbiN3nAw0tS"
   },
   "source": [
    "## 3. Professor List Generation"
   ]
  },
  {
   "cell_type": "markdown",
   "metadata": {
    "id": "Bm7eq9Iywjc-"
   },
   "source": [
    "### 3.1 Import and install web crawling library. \n",
    "\n",
    "<div class=\"alert alert-block alert-warning\">\n",
    "\n",
    "**Code**: \n",
    "    Import and install your web crawling library here. \n",
    "</div> \n",
    "\n",
    "<div class=\"alert alert-block alert-warning\">\n",
    "    \n",
    "**Report**: \n",
    "    **Part II 3.1** Please include your result for this coding task into your report Part II, with proper section title '3.1'.\n",
    "</div>\n",
    "\n",
    "*hint: you could use selenium by doing the pip install selenium, download the webdriver for chromedriver and define your webdriver for crawling. But you are free to use any other library*\n",
    "\n"
   ]
  },
  {
   "cell_type": "code",
   "execution_count": null,
   "metadata": {
    "id": "rHKPhKwUwtyI"
   },
   "outputs": [],
   "source": [
    "# write your import and necessary web crawling libary here\n",
    "\n"
   ]
  },
  {
   "cell_type": "markdown",
   "metadata": {
    "id": "ZX4OQIsfwwk_"
   },
   "source": [
    "### 3.2 Find all professors in School of IT and save it as csv. \n",
    "\n",
    "<div class=\"alert alert-block alert-warning\">\n",
    "\n",
    "**Code**: \n",
    "    Find all professors in Schoolf of IT and save it as csv. The csv must have the full name of the professor (in one column), the title of the professor and University Name.\n",
    "</div> \n",
    "\n",
    "<div class=\"alert alert-block alert-warning\">\n",
    "    \n",
    "**Report**: \n",
    "    **Part II 3.2** Please include your result for this coding task into your report Part II, with proper section title '3.2'.\n",
    "</div>\n",
    "\n",
    "\n",
    "\n",
    "*hint: the url of the staff list for school of IT is https://www.deakin.edu.au/information-technology/staff-listing. you may need to iteratively find out html tag by table in the page to start crawl all the text from td (td is the elements in html table, check https://www.w3schools.com/html/html_tables.asp)*"
   ]
  },
  {
   "cell_type": "code",
   "execution_count": null,
   "metadata": {
    "id": "vII6Na-1xEAh"
   },
   "outputs": [],
   "source": [
    "# here we first define the parsing method, you will need to use this parsing method to format the professor full name and title from the staff page.\n",
    "# the name of the professor from staff page will be split by space and last two words are full name \n",
    "def parse_name(stringtext):\n",
    "  return \" \".join(stringtext.split(\" \")[-2:]),\" \".join(stringtext.split(\" \")[:-2])"
   ]
  },
  {
   "cell_type": "code",
   "execution_count": null,
   "metadata": {
    "id": "RmLHQyKbxIEL"
   },
   "outputs": [],
   "source": [
    "import pandas as pd\n",
    "# the crawling information will be stored in pandas dataframe and then save as csv\n",
    "# below you are required to use the parse_name method to crawl the professor's full name and title\n",
    "# The column name must be same as the provided professor-list.csv\n"
   ]
  },
  {
   "cell_type": "markdown",
   "metadata": {
    "id": "hwKTqMXaxOpw"
   },
   "source": [
    "## 4. Professor Citation Information Generation\n"
   ]
  },
  {
   "cell_type": "markdown",
   "metadata": {
    "id": "_uk5f1LgxQc7"
   },
   "source": [
    "### 4.1 Search the google scholar for all professors \n",
    "<div class=\"alert alert-block alert-warning\">\n",
    "\n",
    "**Code**: \n",
    "    Search the google scholar for all professors and obtain their citations-all, h-index-all, i10-all, citation-since2016,h-index-2016 and i10-since2016. Save the results as csv and must having **all the professors name, title and all 6 citation information.**\n",
    "</div> \n",
    "\n",
    "<div class=\"alert alert-block alert-warning\">\n",
    "    \n",
    "**Report**: \n",
    "    **Part II 4.1** Please include your result for this coding task into your report Part II, with proper section title '4.1'.\n",
    "</div>\n",
    "\n",
    "\n",
    "*hint: if the professors did not have the google scholar profle with the name, save the 6 citation information as string \"na\". you could use the while loop with condition or for loop with if condition or for loop with defined method having if condition to deal with those professors do not have google scholar*"
   ]
  },
  {
   "cell_type": "code",
   "execution_count": null,
   "metadata": {
    "id": "YITbe1Owxf2o"
   },
   "outputs": [],
   "source": [
    "# search the google scholar for all professors to obtain their citations_all, h-index_all, i10_all, citation_since2016\n",
    "# h-index-2016 and i10_since2016. Save the results as csv and must having all the professors name, title and all 6 citation information.\n",
    "# if the professors did not have the google scholar profle with the name, save the 6 citation information as string \"na\"\n",
    "# you are requests to use loops and Conditional Statements to finish this task (eg: while / for, if...), failed to use loop\n",
    "# and conditional statements will occur 0 mark.\n",
    "# hint: sometimes, to render the google scholar page, you need to wait for the brower for few seconds, you could use \"from time import sleep\"\n",
    "# to have sleep(5) as the wait action for waiting 5 seconds.  \n",
    "# The column name must be same as the provided professor-citation-information.csv \n",
    "# write your code for this part as below:\n",
    "\n"
   ]
  },
  {
   "cell_type": "markdown",
   "metadata": {
    "id": "7xxoyZvzxgmK"
   },
   "source": [
    "### 4.2 Find out the professor name having the most citations \n",
    "\n",
    "<div class=\"alert alert-block alert-warning\">\n",
    "\n",
    "**Code**: \n",
    "    Find out the professor name having the most citations (please remove those professor who does not have google scholar page)\n",
    "\n",
    "<div class=\"alert alert-block alert-warning\">\n",
    "    \n",
    "**Report**: \n",
    "    **Part II 4.2** Please include your result for this coding task into your report Part II, with proper section title '4.2'.\n",
    "</div>\n"
   ]
  },
  {
   "cell_type": "code",
   "execution_count": null,
   "metadata": {
    "id": "ay_z3pC8xntr"
   },
   "outputs": [],
   "source": [
    "# find out the professor name having the most citations (please remove those professor who does not have google scholar page)\n",
    "# write your code here\n",
    "\n"
   ]
  },
  {
   "cell_type": "markdown",
   "metadata": {
    "id": "MTlPxwg5xo_U"
   },
   "source": [
    "### 4.3 Find out the row for associate professor having the most i10-index since 2016 \n",
    "<div class=\"alert alert-block alert-warning\">\n",
    "\n",
    "**Code**: \n",
    "    Find out the row for associate professor having the most i10-index since 2016 (please remove those professor who does not have google scholar page)\n",
    "\n",
    "<div class=\"alert alert-block alert-warning\">\n",
    "    \n",
    "**Report**: \n",
    "    **Part II 4.3** Please include your result for this coding task into your report Part II, with proper section title '4.3'.\n",
    "</div>\n"
   ]
  },
  {
   "cell_type": "code",
   "execution_count": null,
   "metadata": {
    "id": "MjpexWtRxwA5"
   },
   "outputs": [],
   "source": [
    "# find out the row for associate professor having the most i10_index since 2016 (please remove those professor who does not have google scholar page)\n",
    "# write your code here"
   ]
  },
  {
   "cell_type": "markdown",
   "metadata": {
    "id": "lsHSp2H9xxRg"
   },
   "source": [
    "### 4.4 Find out all the professors name who has the citations_since2016 > 2500\n",
    "<div class=\"alert alert-block alert-warning\">\n",
    "\n",
    "**Code**: \n",
    "    Find out the row for associate professor having the most i10-index since 2016 (please remove those professor who does not have google scholar page)\n",
    "\n",
    "<div class=\"alert alert-block alert-warning\">\n",
    "    \n",
    "**Report**: \n",
    "    **Part II 4.4** Please include your result for this coding task into your report Part II, with proper section title '4.4'.\n",
    "</div>\n"
   ]
  },
  {
   "cell_type": "code",
   "execution_count": null,
   "metadata": {
    "id": "ZD352krRx5Dk"
   },
   "outputs": [],
   "source": [
    "# find out all the professors name who has the citations_since2016 > 2500\n",
    "# write your code here"
   ]
  }
 ],
 "metadata": {
  "colab": {
   "collapsed_sections": [],
   "name": "SIT742Task1.ipynb",
   "provenance": [],
   "toc_visible": true
  },
  "kernelspec": {
   "display_name": "Python 3",
   "language": "python",
   "name": "python3"
  },
  "language_info": {
   "codemirror_mode": {
    "name": "ipython",
    "version": 3
   },
   "file_extension": ".py",
   "mimetype": "text/x-python",
   "name": "python",
   "nbconvert_exporter": "python",
   "pygments_lexer": "ipython3",
   "version": "3.9.2"
  },
  "name": "SampleCode",
  "notebookId": 2691131752868967
 },
 "nbformat": 4,
 "nbformat_minor": 1
}
